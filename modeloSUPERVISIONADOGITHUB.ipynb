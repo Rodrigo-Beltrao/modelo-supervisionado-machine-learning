{
 "cells": [
  {
   "cell_type": "markdown",
   "id": "59874951",
   "metadata": {},
   "source": [
    "## 1) Carregamento dos dados do arquivo “Ames_Housing.zip” para dataframes de treino e teste, usando o módulo Pandas."
   ]
  },
  {
   "cell_type": "code",
   "execution_count": 9,
   "id": "16ff7d6a",
   "metadata": {},
   "outputs": [],
   "source": [
    "# Importação da biblioteca pandas\n",
    "import pandas as pd"
   ]
  },
  {
   "cell_type": "code",
   "execution_count": 2,
   "id": "0f864f90",
   "metadata": {},
   "outputs": [],
   "source": [
    "# Carregamento do arquivo\n",
    "dados_teste = pd.read_csv('/home/r/Documentos/Infnet/Modelos Supervisionados/PROJETO/housing_teste.csv')"
   ]
  },
  {
   "cell_type": "code",
   "execution_count": 3,
   "id": "c119619f",
   "metadata": {},
   "outputs": [],
   "source": [
    "dados_treino = pd.read_csv('/home/r/Documentos/Infnet/Modelos Supervisionados/PROJETO/housing_treino.csv')"
   ]
  },
  {
   "cell_type": "markdown",
   "id": "9582e540",
   "metadata": {},
   "source": [
    "## 2) Execução do modelo de regressão linear para relacionar a variável dependente “Sale_Price” com as variáveis independentes “Gr_Liv_Area”, “Lot_Area”, “Bedroom_AbvGr”, “Lot_Frontage” e “Garage_Area”."
   ]
  },
  {
   "cell_type": "code",
   "execution_count": 4,
   "id": "bb1a3291",
   "metadata": {},
   "outputs": [],
   "source": [
    "from sklearn.linear_model import LinearRegression"
   ]
  },
  {
   "cell_type": "code",
   "execution_count": 5,
   "id": "2dd52322",
   "metadata": {},
   "outputs": [],
   "source": [
    "# Separar as variáveis independentes e dependentes do conjunto de treinamento\n",
    "X_treino = dados_treino[['Gr_Liv_Area', 'Lot_Area', 'Bedroom_AbvGr', 'Lot_Frontage', 'Garage_Area']]\n",
    "y_treino = dados_treino['Sale_Price']"
   ]
  },
  {
   "cell_type": "code",
   "execution_count": 6,
   "id": "6ab025d8",
   "metadata": {},
   "outputs": [],
   "source": [
    "# Separar as variáveis independentes e dependentes do conjunto de teste\n",
    "X_teste = dados_teste[['Gr_Liv_Area', 'Lot_Area', 'Bedroom_AbvGr', 'Lot_Frontage', 'Garage_Area']]\n",
    "y_teste = dados_teste['Sale_Price']"
   ]
  },
  {
   "cell_type": "code",
   "execution_count": 7,
   "id": "ff0a83b3",
   "metadata": {},
   "outputs": [],
   "source": [
    "# Criar uma instância do modelo de regressão linear\n",
    "modelo = LinearRegression()"
   ]
  },
  {
   "cell_type": "code",
   "execution_count": 8,
   "id": "c55395b1",
   "metadata": {},
   "outputs": [
    {
     "data": {
      "text/plain": [
       "LinearRegression()"
      ]
     },
     "execution_count": 8,
     "metadata": {},
     "output_type": "execute_result"
    }
   ],
   "source": [
    "# Treinar o modelo com os dados de treinamento\n",
    "modelo.fit(X_treino, y_treino)"
   ]
  },
  {
   "cell_type": "code",
   "execution_count": 9,
   "id": "af64e3f1",
   "metadata": {},
   "outputs": [],
   "source": [
    "# Aplicar o modelo treinado no conjunto de teste\n",
    "X_teste = dados_teste[['Gr_Liv_Area', 'Lot_Area', 'Bedroom_AbvGr', 'Lot_Frontage', 'Garage_Area']]\n",
    "y_pred = modelo.predict(X_teste)"
   ]
  },
  {
   "cell_type": "code",
   "execution_count": 10,
   "id": "a1bd11d2",
   "metadata": {},
   "outputs": [
    {
     "name": "stdout",
     "output_type": "stream",
     "text": [
      "Previsões: [171504.14795994 188976.32468789 203536.0034396  ... 192625.99938645\n",
      " 152985.63103585 136016.47553754]\n"
     ]
    }
   ],
   "source": [
    "# Imprimir as previsões\n",
    "print(\"Previsões:\", y_pred)"
   ]
  },
  {
   "cell_type": "markdown",
   "id": "4c01412b",
   "metadata": {},
   "source": [
    "## 3) Apresentação da métrica MAE encontrada."
   ]
  },
  {
   "cell_type": "code",
   "execution_count": 11,
   "id": "9da4466f",
   "metadata": {},
   "outputs": [],
   "source": [
    "from sklearn.metrics import mean_absolute_error"
   ]
  },
  {
   "cell_type": "code",
   "execution_count": 12,
   "id": "56f3b41d",
   "metadata": {},
   "outputs": [],
   "source": [
    "# Calcular o MAE\n",
    "mae = mean_absolute_error(y_teste, y_pred)"
   ]
  },
  {
   "cell_type": "code",
   "execution_count": 13,
   "id": "c74c0bb9",
   "metadata": {},
   "outputs": [
    {
     "name": "stdout",
     "output_type": "stream",
     "text": [
      "MAE: 30465.289187593473\n"
     ]
    }
   ],
   "source": [
    "# Imprimir o MAE\n",
    "print(\"MAE:\", mae)"
   ]
  },
  {
   "cell_type": "markdown",
   "id": "9a6ab198",
   "metadata": {},
   "source": [
    "## 4) Apresentação da métrica MAPE encontrada. "
   ]
  },
  {
   "cell_type": "code",
   "execution_count": 14,
   "id": "f9bd6549",
   "metadata": {},
   "outputs": [],
   "source": [
    "from sklearn.metrics import mean_absolute_percentage_error"
   ]
  },
  {
   "cell_type": "code",
   "execution_count": 15,
   "id": "0d9d37d0",
   "metadata": {},
   "outputs": [],
   "source": [
    "# Calcular o MAPE\n",
    "mape = mean_absolute_percentage_error(y_teste, y_pred)"
   ]
  },
  {
   "cell_type": "code",
   "execution_count": 16,
   "id": "007b2bcf",
   "metadata": {},
   "outputs": [
    {
     "name": "stdout",
     "output_type": "stream",
     "text": [
      "MAPE: 0.18740986133197485\n"
     ]
    }
   ],
   "source": [
    "# Imprimir o MAPE\n",
    "print(\"MAPE:\", mape)"
   ]
  },
  {
   "cell_type": "markdown",
   "id": "1fc2dafe",
   "metadata": {},
   "source": [
    "## 5) Carregamento dos dados do arquivo “MtCars_Dataset.zip” para um dataframe, usando o módulo Pandas."
   ]
  },
  {
   "cell_type": "code",
   "execution_count": 17,
   "id": "3ae1bdcb",
   "metadata": {},
   "outputs": [],
   "source": [
    "# Carregamento do arquivo\n",
    "dados = pd.read_csv('/home/r/Documentos/Infnet/Modelos Supervisionados/PROJETO/mtcars.csv')"
   ]
  },
  {
   "cell_type": "markdown",
   "id": "8d4399cf",
   "metadata": {},
   "source": [
    "## 6) Execução do modelo de regressão logística que relaciona a variável dependente 'VS' (motor com configuração em V (0) ou Straight , em linha (1)) com as variáveis independentes “mpg”, “cyl”, “disp”, “hp” e “wt”."
   ]
  },
  {
   "cell_type": "code",
   "execution_count": 17,
   "id": "e9b88e3c",
   "metadata": {},
   "outputs": [],
   "source": [
    "from sklearn.model_selection import train_test_split\n",
    "from sklearn.preprocessing import StandardScaler\n",
    "from sklearn.linear_model import LogisticRegression"
   ]
  },
  {
   "cell_type": "code",
   "execution_count": 18,
   "id": "5749f975",
   "metadata": {},
   "outputs": [],
   "source": [
    "# Separar as variáveis independentes (X) e a variável dependente (y)\n",
    "X = dados[['mpg', 'cyl', 'disp', 'hp', 'wt']]\n",
    "y = dados['vs']"
   ]
  },
  {
   "cell_type": "code",
   "execution_count": 21,
   "id": "941bc7a9",
   "metadata": {},
   "outputs": [],
   "source": [
    "# Dividir o conjunto de dados em conjuntos de treinamento e teste\n",
    "X_treino, X_teste, y_treino, y_teste = train_test_split(X, y, test_size=0.3, random_state=42)"
   ]
  },
  {
   "cell_type": "code",
   "execution_count": 25,
   "id": "efe7f9a7",
   "metadata": {},
   "outputs": [],
   "source": [
    "# Escalonar as variáveis independentes usando o StandardScaler\n",
    "escalador = StandardScaler()\n",
    "X_treino_escalonado = escalador.fit_transform(X_treino)\n",
    "X_teste_escalonado = escalador.transform(X_teste)"
   ]
  },
  {
   "cell_type": "code",
   "execution_count": 28,
   "id": "ccc71b16",
   "metadata": {},
   "outputs": [],
   "source": [
    "# Criar uma instância do modelo de regressão logística\n",
    "modelo = LogisticRegression()"
   ]
  },
  {
   "cell_type": "code",
   "execution_count": 29,
   "id": "d276248c",
   "metadata": {},
   "outputs": [
    {
     "data": {
      "text/plain": [
       "LogisticRegression()"
      ]
     },
     "execution_count": 29,
     "metadata": {},
     "output_type": "execute_result"
    }
   ],
   "source": [
    "# Treinar o modelo usando os dados de treinamento escalonados\n",
    "modelo.fit(X_treino_escalonado, y_treino)"
   ]
  },
  {
   "cell_type": "code",
   "execution_count": 30,
   "id": "179e9068",
   "metadata": {},
   "outputs": [
    {
     "name": "stdout",
     "output_type": "stream",
     "text": [
      "Coeficientes: [[ 0.18315107 -0.8673258  -0.49401161 -0.83563661  0.1119158 ]]\n",
      "Intercepto: [-0.43296504]\n"
     ]
    }
   ],
   "source": [
    "# Imprimir os coeficientes e o intercepto\n",
    "print('Coeficientes:', modelo.coef_)\n",
    "print('Intercepto:', modelo.intercept_)"
   ]
  },
  {
   "cell_type": "markdown",
   "id": "ac1dc046",
   "metadata": {},
   "source": [
    "## 7) Apresentação das métricas acurácia e o F1-Score do modelo final."
   ]
  },
  {
   "cell_type": "code",
   "execution_count": 18,
   "id": "561530a0",
   "metadata": {},
   "outputs": [],
   "source": [
    "from sklearn.metrics import accuracy_score, f1_score"
   ]
  },
  {
   "cell_type": "code",
   "execution_count": 32,
   "id": "ad3d41a0",
   "metadata": {},
   "outputs": [],
   "source": [
    "# Prever os rótulos usando o conjunto de teste escalonado\n",
    "y_pred = modelo.predict(X_teste_escalonado)"
   ]
  },
  {
   "cell_type": "code",
   "execution_count": 33,
   "id": "9583e69d",
   "metadata": {},
   "outputs": [
    {
     "name": "stdout",
     "output_type": "stream",
     "text": [
      "Acurácia: 0.9\n"
     ]
    }
   ],
   "source": [
    "# Calcular a acurácia\n",
    "acuracia = accuracy_score(y_teste, y_pred)\n",
    "print('Acurácia:', acuracia)"
   ]
  },
  {
   "cell_type": "code",
   "execution_count": 34,
   "id": "bebd884f",
   "metadata": {},
   "outputs": [
    {
     "name": "stdout",
     "output_type": "stream",
     "text": [
      "F1-Score: 0.888888888888889\n"
     ]
    }
   ],
   "source": [
    "# Calcular o F1-Score\n",
    "f1 = f1_score(y_teste, y_pred)\n",
    "print('F1-Score:', f1)"
   ]
  },
  {
   "cell_type": "markdown",
   "id": "194a7500",
   "metadata": {},
   "source": [
    "## 9) Execução, dos dados do arquivo “MtCars_Dataset.zip, de um modelo de árvore de decisão relacionando as mesmas variáveis."
   ]
  },
  {
   "cell_type": "code",
   "execution_count": 19,
   "id": "79bab5cd",
   "metadata": {},
   "outputs": [],
   "source": [
    "from sklearn.tree import DecisionTreeClassifier"
   ]
  },
  {
   "cell_type": "code",
   "execution_count": 36,
   "id": "8a81cb96",
   "metadata": {},
   "outputs": [],
   "source": [
    "# Criar uma instância do modelo de árvore de decisão\n",
    "modelo = DecisionTreeClassifier()"
   ]
  },
  {
   "cell_type": "code",
   "execution_count": 37,
   "id": "d1925d9b",
   "metadata": {},
   "outputs": [
    {
     "data": {
      "text/plain": [
       "DecisionTreeClassifier()"
      ]
     },
     "execution_count": 37,
     "metadata": {},
     "output_type": "execute_result"
    }
   ],
   "source": [
    "# Treinar o modelo com os dados de treinamento\n",
    "modelo.fit(X_treino_escalonado, y_treino)"
   ]
  },
  {
   "cell_type": "markdown",
   "id": "c85d4b32",
   "metadata": {},
   "source": [
    "## 10) Apresentação da acurácia do modelo final, agora utilizando a árvore de decisão."
   ]
  },
  {
   "cell_type": "code",
   "execution_count": 38,
   "id": "8568eaf0",
   "metadata": {
    "collapsed": true
   },
   "outputs": [
    {
     "name": "stderr",
     "output_type": "stream",
     "text": [
      "/home/r/anaconda3/lib/python3.9/site-packages/sklearn/base.py:443: UserWarning: X has feature names, but DecisionTreeClassifier was fitted without feature names\n",
      "  warnings.warn(\n"
     ]
    }
   ],
   "source": [
    "# Aplicar o modelo treinado no conjunto de teste\n",
    "y_pred = modelo.predict(X_teste)"
   ]
  },
  {
   "cell_type": "code",
   "execution_count": 39,
   "id": "598abf3c",
   "metadata": {},
   "outputs": [],
   "source": [
    "# Calcular a acurácia\n",
    "acuracia = accuracy_score(y_teste, y_pred)"
   ]
  },
  {
   "cell_type": "code",
   "execution_count": 40,
   "id": "786883c8",
   "metadata": {},
   "outputs": [
    {
     "name": "stdout",
     "output_type": "stream",
     "text": [
      "Acurácia: 0.6\n"
     ]
    }
   ],
   "source": [
    "# Imprimir a acurácia\n",
    "print(\"Acurácia:\", acuracia)"
   ]
  },
  {
   "cell_type": "markdown",
   "id": "0128e660",
   "metadata": {},
   "source": [
    "## 11) Apresentação do F1-Score do modelo final, para cada uma das classes-alvo, agora utilizando a árvore de decisão."
   ]
  },
  {
   "cell_type": "code",
   "execution_count": 42,
   "id": "c8c9e1a8",
   "metadata": {},
   "outputs": [],
   "source": [
    "from sklearn.metrics import classification_report"
   ]
  },
  {
   "cell_type": "code",
   "execution_count": 43,
   "id": "c062e1b5",
   "metadata": {},
   "outputs": [],
   "source": [
    "# Calcular o F1-Score\n",
    "f1_score = classification_report(y_teste, y_pred, zero_division=1)"
   ]
  },
  {
   "cell_type": "code",
   "execution_count": 44,
   "id": "6fc1b51a",
   "metadata": {},
   "outputs": [
    {
     "name": "stdout",
     "output_type": "stream",
     "text": [
      "F1-Score:\n",
      "               precision    recall  f1-score   support\n",
      "\n",
      "           0       0.60      1.00      0.75         6\n",
      "           1       1.00      0.00      0.00         4\n",
      "\n",
      "    accuracy                           0.60        10\n",
      "   macro avg       0.80      0.50      0.37        10\n",
      "weighted avg       0.76      0.60      0.45        10\n",
      "\n"
     ]
    }
   ],
   "source": [
    "# Imprimir o F1-Score\n",
    "print(\"F1-Score:\\n\", f1_score)"
   ]
  },
  {
   "cell_type": "markdown",
   "id": "1e14d074",
   "metadata": {},
   "source": [
    "## 12) Resultado da aplicação dos modelos na base e sua performação em relação às duas métricas."
   ]
  },
  {
   "cell_type": "code",
   "execution_count": null,
   "id": "9ade4f2b",
   "metadata": {},
   "outputs": [],
   "source": [
    "\"\"\"Considerando a acurácia, o modelo de regressão logística teve um desempenho melhor com uma acurácia\n",
    "de 0.9 em comparação com a acurácia de 0.6 do modelo de árvore de decisão.\n",
    "\n",
    "Em relação ao F1-Score, o modelo de regressão logística também apresentou um resultado melhor, com um\n",
    "valor de 0.888888888888889. Por outro lado, o modelo de árvore de decisão obteve um F1-Score de 0.75 para\n",
    "a classe 0 e 0.0 para a classe 1.\n",
    "\n",
    "Considerando ambas as métricas, o modelo de regressão logística parece ter um desempenho superior em \n",
    "relação à árvore de decisão para o problema em questão.\"\"\"\""
   ]
  },
  {
   "cell_type": "markdown",
   "id": "03bcf28f",
   "metadata": {},
   "source": [
    "## 13) Carregamento dos dados do arquivo “Churn Modelling_Dataset.zip” para um dataframe, usando o módulo Pandas. A descrição das variáveis pode ser encontrada no arquivo TXT que está no mesmo arquivo no GitHub deste projeto. "
   ]
  },
  {
   "cell_type": "code",
   "execution_count": 10,
   "id": "db6cf3b3",
   "metadata": {},
   "outputs": [],
   "source": [
    "# Carregamento do arquivo\n",
    "base_treinamento = pd.read_csv('/home/r/Documentos/Infnet/Modelos Supervisionados/PROJETO/Churn_Modelling.csv')"
   ]
  },
  {
   "cell_type": "markdown",
   "id": "7fdd3f35",
   "metadata": {},
   "source": [
    "## 14) Execução do modelo de redes neurais que relaciona a variável dependente 'Exited' com todas as demais as variáveis independentes do conjunto de dados. Realização de uma separação 80-20 para conjuntos de treino e teste com uma função de ativação apropriada para o problema e execução de experimentos que encontraram a arquitetura da rede neural que entregou o melhor resultado para a acurácia. "
   ]
  },
  {
   "cell_type": "code",
   "execution_count": 11,
   "id": "5012370c",
   "metadata": {},
   "outputs": [],
   "source": [
    "# Importando bibliotecas\n",
    "from sklearn.model_selection import train_test_split\n",
    "from sklearn.neural_network import MLPClassifier\n",
    "from sklearn import metrics"
   ]
  },
  {
   "cell_type": "code",
   "execution_count": 12,
   "id": "1d7b454c",
   "metadata": {},
   "outputs": [],
   "source": [
    "# Separar as variáveis independentes (X) e a variável dependente (y)\n",
    "X = base_treinamento[['RowNumber', 'CustomerId', 'Surname', 'CreditScore', 'Geography', 'Gender', 'Age', 'Tenure',\n",
    "           'Balance', 'NumOfProducts', 'HasCrCard', 'IsActiveMember', 'EstimatedSalary']]\n",
    "y = base_treinamento['Exited']"
   ]
  },
  {
   "cell_type": "code",
   "execution_count": 13,
   "id": "1553653f",
   "metadata": {},
   "outputs": [],
   "source": [
    "# Converter as variáveis categóricas em representações numéricas usando codificação one-hot\n",
    "X = pd.get_dummies(X, columns=['Surname', 'Geography', 'Gender'])"
   ]
  },
  {
   "cell_type": "code",
   "execution_count": 14,
   "id": "8e7bd728",
   "metadata": {},
   "outputs": [],
   "source": [
    "# Garantindo que não existem NAs para não termos problemas na modelagem.\n",
    "X = X.fillna(0)\n",
    "\n",
    "# Transformando tudo para float\n",
    "X = X.astype(float)"
   ]
  },
  {
   "cell_type": "code",
   "execution_count": 15,
   "id": "5abbf8ec",
   "metadata": {},
   "outputs": [],
   "source": [
    "# Separando dados para treino e teste\n",
    "# São dois grupos de dados, um para uso no modelo e outro para uso na validação.\n",
    "\n",
    "# Separando os dados de treino e teste para o modelo\n",
    "X_train,X_test,y_train,y_test = train_test_split(X, y, test_size=0.2)"
   ]
  },
  {
   "cell_type": "code",
   "execution_count": 20,
   "id": "7e6c4f0f",
   "metadata": {},
   "outputs": [],
   "source": [
    "# Normalizando as variáveis\n",
    "scaler = StandardScaler()\n",
    "scaler.fit(X_train)\n",
    "\n",
    "X_train = scaler.transform(X_train)\n",
    "X_test = scaler.transform(X_test)"
   ]
  },
  {
   "cell_type": "code",
   "execution_count": 21,
   "id": "c0a5513e",
   "metadata": {},
   "outputs": [],
   "source": [
    "# Aplicando o modelo de Rede Neural\n",
    "# Instanciando o modelo\n",
    "clf = MLPClassifier(hidden_layer_sizes=(10, 10, 10),\n",
    "                    max_iter=1000,\n",
    "                    activation = 'logistic',\n",
    "                    solver='adam'\n",
    "                   )\n",
    "clf.fit(X_train,y_train)\n",
    "\n",
    "# Avaliando uma única execução\n",
    "y_pred_teste = clf.predict(X_test)"
   ]
  },
  {
   "cell_type": "code",
   "execution_count": 54,
   "id": "f63d3886",
   "metadata": {},
   "outputs": [
    {
     "name": "stdout",
     "output_type": "stream",
     "text": [
      "[[1419  159]\n",
      " [ 336   86]]\n",
      "              precision    recall  f1-score   support\n",
      "\n",
      "    Saudavel       0.81      0.90      0.85      1578\n",
      "    Suspeito       0.35      0.20      0.26       422\n",
      "\n",
      "    accuracy                           0.75      2000\n",
      "   macro avg       0.58      0.55      0.55      2000\n",
      "weighted avg       0.71      0.75      0.73      2000\n",
      "\n",
      "Accuracy: 0.7525\n",
      "Precision: 0.3510204081632653\n",
      "Recall: 0.2037914691943128\n"
     ]
    }
   ],
   "source": [
    "# Calculando as métricas\n",
    "print(metrics.confusion_matrix(y_test, y_pred_teste))\n",
    "print(metrics.classification_report(y_test, y_pred_teste,\n",
    "                                    target_names=['Saudavel','Suspeito']))\n",
    "print(\"Accuracy:\",metrics.accuracy_score(y_test, y_pred_teste))\n",
    "print(\"Precision:\",metrics.precision_score(y_test, y_pred_teste))\n",
    "print(\"Recall:\",metrics.recall_score(y_test, y_pred_teste))"
   ]
  },
  {
   "cell_type": "markdown",
   "id": "82c66463",
   "metadata": {},
   "source": [
    "## 15) Justificação da escolha da função de ativação."
   ]
  },
  {
   "cell_type": "code",
   "execution_count": null,
   "id": "0b4f96e2",
   "metadata": {},
   "outputs": [],
   "source": [
    "\"\"\"Foi escolhido a função logística, pois ela é suave, o que significa que sua derivada é contínua\n",
    "em todo o seu domínio. Isso ajuda no treinamento da rede neural, facilitando a convergência e \n",
    "evitando problemas de instabilidade.\"\"\""
   ]
  },
  {
   "cell_type": "markdown",
   "id": "a48b6232",
   "metadata": {},
   "source": [
    "## 16) Apresentação da acurácia do modelo final."
   ]
  },
  {
   "cell_type": "code",
   "execution_count": 55,
   "id": "a49b6b02",
   "metadata": {},
   "outputs": [
    {
     "name": "stdout",
     "output_type": "stream",
     "text": [
      "Accuracy: 0.7525\n"
     ]
    }
   ],
   "source": [
    "print(\"Accuracy:\",metrics.accuracy_score(y_test, y_pred_teste))"
   ]
  }
 ],
 "metadata": {
  "kernelspec": {
   "display_name": "Python 3 (ipykernel)",
   "language": "python",
   "name": "python3"
  },
  "language_info": {
   "codemirror_mode": {
    "name": "ipython",
    "version": 3
   },
   "file_extension": ".py",
   "mimetype": "text/x-python",
   "name": "python",
   "nbconvert_exporter": "python",
   "pygments_lexer": "ipython3",
   "version": "3.9.13"
  }
 },
 "nbformat": 4,
 "nbformat_minor": 5
}
